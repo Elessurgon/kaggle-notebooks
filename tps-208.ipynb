{
 "cells": [
  {
   "cell_type": "code",
   "execution_count": 1,
   "id": "59673dcf",
   "metadata": {
    "_cell_guid": "b1076dfc-b9ad-4769-8c92-a6c4dae69d19",
    "_uuid": "8f2839f25d086af736a60e9eeb907d3b93b6e0e5",
    "execution": {
     "iopub.execute_input": "2021-08-26T13:01:08.412671Z",
     "iopub.status.busy": "2021-08-26T13:01:08.411874Z",
     "iopub.status.idle": "2021-08-26T13:01:20.618422Z",
     "shell.execute_reply": "2021-08-26T13:01:20.617740Z",
     "shell.execute_reply.started": "2021-08-26T12:33:23.658786Z"
    },
    "papermill": {
     "duration": 12.228673,
     "end_time": "2021-08-26T13:01:20.618599",
     "exception": false,
     "start_time": "2021-08-26T13:01:08.389926",
     "status": "completed"
    },
    "tags": []
   },
   "outputs": [],
   "source": [
    "import numpy as np\n",
    "import pandas as pd\n",
    "import matplotlib.pyplot as plt\n",
    "import seaborn as sns\n",
    "\n",
    "data = pd.read_csv(\"../input/tabular-playground-series-aug-2021/train.csv\")\n",
    "test = pd.read_csv(\"../input/tabular-playground-series-aug-2021/test.csv\")"
   ]
  },
  {
   "cell_type": "code",
   "execution_count": 2,
   "id": "03070c07",
   "metadata": {
    "execution": {
     "iopub.execute_input": "2021-08-26T13:01:20.647467Z",
     "iopub.status.busy": "2021-08-26T13:01:20.646795Z",
     "iopub.status.idle": "2021-08-26T13:01:20.730654Z",
     "shell.execute_reply": "2021-08-26T13:01:20.729975Z",
     "shell.execute_reply.started": "2021-08-26T12:33:31.274734Z"
    },
    "papermill": {
     "duration": 0.101742,
     "end_time": "2021-08-26T13:01:20.730789",
     "exception": false,
     "start_time": "2021-08-26T13:01:20.629047",
     "status": "completed"
    },
    "tags": []
   },
   "outputs": [],
   "source": [
    "y = data.loss\n",
    "X = data.drop(['loss', 'id'], axis = 1)"
   ]
  },
  {
   "cell_type": "code",
   "execution_count": 3,
   "id": "76c9f2c6",
   "metadata": {
    "execution": {
     "iopub.execute_input": "2021-08-26T13:01:20.754670Z",
     "iopub.status.busy": "2021-08-26T13:01:20.753986Z",
     "iopub.status.idle": "2021-08-26T13:01:21.177890Z",
     "shell.execute_reply": "2021-08-26T13:01:21.177312Z",
     "shell.execute_reply.started": "2021-08-26T12:33:31.35185Z"
    },
    "papermill": {
     "duration": 0.438074,
     "end_time": "2021-08-26T13:01:21.178052",
     "exception": false,
     "start_time": "2021-08-26T13:01:20.739978",
     "status": "completed"
    },
    "tags": []
   },
   "outputs": [],
   "source": [
    "from sklearn.model_selection import train_test_split\n",
    "\n",
    "X_train, X_valid, y_train, y_valid = train_test_split(X, y, train_size=0.8, test_size=0.2, \n",
    "                                                                random_state=0)"
   ]
  },
  {
   "cell_type": "code",
   "execution_count": 4,
   "id": "b817311a",
   "metadata": {
    "execution": {
     "iopub.execute_input": "2021-08-26T13:01:21.251769Z",
     "iopub.status.busy": "2021-08-26T13:01:21.251082Z",
     "iopub.status.idle": "2021-08-26T13:01:21.255759Z",
     "shell.execute_reply": "2021-08-26T13:01:21.256262Z",
     "shell.execute_reply.started": "2021-08-26T12:33:31.628316Z"
    },
    "papermill": {
     "duration": 0.068886,
     "end_time": "2021-08-26T13:01:21.256443",
     "exception": false,
     "start_time": "2021-08-26T13:01:21.187557",
     "status": "completed"
    },
    "tags": []
   },
   "outputs": [],
   "source": [
    "# from sklearn.preprocessing import Normalizer\n",
    "# transformer = Normalizer().fit(X_train)\n",
    "# X_train = transformer.transform(X_train)\n",
    "\n",
    "# transformer = Normalizer().fit(X_valid)\n",
    "# X_valid = transformer.transform(X_valid)\n",
    "\n",
    "ids = test.id\n",
    "test = test.drop(['id'], axis = 1)\n",
    "\n",
    "# transformer = Normalizer().fit(test)\n",
    "# test = transformer.transform(test)"
   ]
  },
  {
   "cell_type": "code",
   "execution_count": 5,
   "id": "4aba82e2",
   "metadata": {
    "execution": {
     "iopub.execute_input": "2021-08-26T13:01:21.282202Z",
     "iopub.status.busy": "2021-08-26T13:01:21.281535Z",
     "iopub.status.idle": "2021-08-26T13:01:21.577288Z",
     "shell.execute_reply": "2021-08-26T13:01:21.576711Z",
     "shell.execute_reply.started": "2021-08-26T12:33:31.689992Z"
    },
    "papermill": {
     "duration": 0.311735,
     "end_time": "2021-08-26T13:01:21.577437",
     "exception": false,
     "start_time": "2021-08-26T13:01:21.265702",
     "status": "completed"
    },
    "tags": []
   },
   "outputs": [],
   "source": [
    "from sklearn.ensemble import RandomForestRegressor\n",
    "from sklearn.metrics import mean_absolute_error\n",
    "from xgboost import XGBRegressor\n",
    "from sklearn.linear_model import LinearRegression\n",
    "from sklearn.tree import DecisionTreeRegressor\n",
    "\n",
    "model1 = RandomForestRegressor(n_estimators=10, random_state=1, criterion='mse',\n",
    "                               n_jobs=-1, verbose=10)\n",
    "model2 = XGBRegressor(verbosity = 2, max_depth = 100, \n",
    "                      sampling_method = 'gradient_based', num_parallel_tree = 4)\n",
    "model3 = LinearRegression()\n",
    "model4 = DecisionTreeRegressor(max_leaf_nodes = 10, random_state=1)"
   ]
  },
  {
   "cell_type": "code",
   "execution_count": 6,
   "id": "096d104d",
   "metadata": {
    "execution": {
     "iopub.execute_input": "2021-08-26T13:01:21.601713Z",
     "iopub.status.busy": "2021-08-26T13:01:21.601017Z",
     "iopub.status.idle": "2021-08-26T13:01:21.606467Z",
     "shell.execute_reply": "2021-08-26T13:01:21.605881Z",
     "shell.execute_reply.started": "2021-08-26T12:33:31.706137Z"
    },
    "papermill": {
     "duration": 0.019525,
     "end_time": "2021-08-26T13:01:21.606615",
     "exception": false,
     "start_time": "2021-08-26T13:01:21.587090",
     "status": "completed"
    },
    "tags": []
   },
   "outputs": [],
   "source": [
    "from sklearn.pipeline import Pipeline\n",
    "\n",
    "my_pipeline = Pipeline(steps=[('model', model1)])\n",
    "\n",
    "# my_pipeline.fit(X_train, y_train)\n",
    "# preds = my_pipeline.predict(X_valid)\n",
    "# score = mean_absolute_error(y_valid, preds)\n",
    "# print('MAE:', score)"
   ]
  },
  {
   "cell_type": "code",
   "execution_count": 7,
   "id": "3b49a5be",
   "metadata": {
    "execution": {
     "iopub.execute_input": "2021-08-26T13:01:21.634049Z",
     "iopub.status.busy": "2021-08-26T13:01:21.633345Z",
     "iopub.status.idle": "2021-08-26T13:06:19.013716Z",
     "shell.execute_reply": "2021-08-26T13:06:19.014197Z",
     "shell.execute_reply.started": "2021-08-26T12:33:31.717633Z"
    },
    "papermill": {
     "duration": 297.398519,
     "end_time": "2021-08-26T13:06:19.014386",
     "exception": false,
     "start_time": "2021-08-26T13:01:21.615867",
     "status": "completed"
    },
    "tags": []
   },
   "outputs": [
    {
     "name": "stderr",
     "output_type": "stream",
     "text": [
      "[Parallel(n_jobs=-1)]: Using backend ThreadingBackend with 4 concurrent workers.\n"
     ]
    },
    {
     "name": "stdout",
     "output_type": "stream",
     "text": [
      "building tree 1 of 10\n",
      "building tree 2 of 10\n",
      "building tree 3 of 10building tree 4 of 10\n",
      "\n",
      "building tree 5 of 10\n",
      "building tree 6 of 10\n",
      "building tree 7 of 10\n",
      "building tree 8 of 10\n",
      "building tree 9 of 10\n"
     ]
    },
    {
     "name": "stderr",
     "output_type": "stream",
     "text": [
      "[Parallel(n_jobs=-1)]: Done   5 out of  10 | elapsed:  3.6min remaining:  3.6min\n"
     ]
    },
    {
     "name": "stdout",
     "output_type": "stream",
     "text": [
      "building tree 10 of 10\n"
     ]
    },
    {
     "name": "stderr",
     "output_type": "stream",
     "text": [
      "[Parallel(n_jobs=-1)]: Done   7 out of  10 | elapsed:  3.7min remaining:  1.6min\n",
      "[Parallel(n_jobs=-1)]: Done  10 out of  10 | elapsed:  4.9min finished\n",
      "[Parallel(n_jobs=4)]: Using backend ThreadingBackend with 4 concurrent workers.\n",
      "[Parallel(n_jobs=4)]: Done   5 out of  10 | elapsed:    0.4s remaining:    0.4s\n",
      "[Parallel(n_jobs=4)]: Done   7 out of  10 | elapsed:    0.4s remaining:    0.2s\n",
      "[Parallel(n_jobs=4)]: Done  10 out of  10 | elapsed:    0.5s finished\n"
     ]
    }
   ],
   "source": [
    "my_pipeline.fit(X, y)\n",
    "\n",
    "test_preds = my_pipeline.predict(test)"
   ]
  },
  {
   "cell_type": "code",
   "execution_count": 8,
   "id": "56d78905",
   "metadata": {
    "execution": {
     "iopub.execute_input": "2021-08-26T13:06:19.045932Z",
     "iopub.status.busy": "2021-08-26T13:06:19.045166Z",
     "iopub.status.idle": "2021-08-26T13:06:19.049010Z",
     "shell.execute_reply": "2021-08-26T13:06:19.048417Z",
     "shell.execute_reply.started": "2021-08-26T12:38:35.838914Z"
    },
    "papermill": {
     "duration": 0.021825,
     "end_time": "2021-08-26T13:06:19.049154",
     "exception": false,
     "start_time": "2021-08-26T13:06:19.027329",
     "status": "completed"
    },
    "tags": []
   },
   "outputs": [],
   "source": [
    "output = pd.DataFrame({'id': ids,\n",
    "                      'loss': test_preds})"
   ]
  },
  {
   "cell_type": "code",
   "execution_count": 9,
   "id": "9b5cc4e3",
   "metadata": {
    "execution": {
     "iopub.execute_input": "2021-08-26T13:06:19.077745Z",
     "iopub.status.busy": "2021-08-26T13:06:19.077145Z",
     "iopub.status.idle": "2021-08-26T13:06:19.467000Z",
     "shell.execute_reply": "2021-08-26T13:06:19.466433Z",
     "shell.execute_reply.started": "2021-08-26T12:38:35.847888Z"
    },
    "papermill": {
     "duration": 0.405346,
     "end_time": "2021-08-26T13:06:19.467185",
     "exception": false,
     "start_time": "2021-08-26T13:06:19.061839",
     "status": "completed"
    },
    "tags": []
   },
   "outputs": [],
   "source": [
    "output.to_csv('submission.csv', index=False)"
   ]
  },
  {
   "cell_type": "code",
   "execution_count": null,
   "id": "f4ff1a59",
   "metadata": {
    "papermill": {
     "duration": 0.014684,
     "end_time": "2021-08-26T13:06:19.496797",
     "exception": false,
     "start_time": "2021-08-26T13:06:19.482113",
     "status": "completed"
    },
    "tags": []
   },
   "outputs": [],
   "source": []
  }
 ],
 "metadata": {
  "kernelspec": {
   "display_name": "Python 3",
   "language": "python",
   "name": "python3"
  },
  "language_info": {
   "codemirror_mode": {
    "name": "ipython",
    "version": 3
   },
   "file_extension": ".py",
   "mimetype": "text/x-python",
   "name": "python",
   "nbconvert_exporter": "python",
   "pygments_lexer": "ipython3",
   "version": "3.7.10"
  },
  "papermill": {
   "default_parameters": {},
   "duration": 320.900073,
   "end_time": "2021-08-26T13:06:21.037803",
   "environment_variables": {},
   "exception": null,
   "input_path": "__notebook__.ipynb",
   "output_path": "__notebook__.ipynb",
   "parameters": {},
   "start_time": "2021-08-26T13:01:00.137730",
   "version": "2.3.3"
  }
 },
 "nbformat": 4,
 "nbformat_minor": 5
}
